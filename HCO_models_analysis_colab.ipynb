{
  "nbformat": 4,
  "nbformat_minor": 0,
  "metadata": {
    "colab": {
      "name": "HCO_models_analysis_colab.ipynb",
      "provenance": [],
      "collapsed_sections": [],
      "authorship_tag": "ABX9TyObz6HEV9YW4n8hy1Cjy/Yl",
      "include_colab_link": true
    },
    "kernelspec": {
      "name": "python3",
      "display_name": "Python 3"
    },
    "language_info": {
      "name": "python"
    }
  },
  "cells": [
    {
      "cell_type": "markdown",
      "metadata": {
        "id": "view-in-github",
        "colab_type": "text"
      },
      "source": [
        "<a href=\"https://colab.research.google.com/github/eomorozova/modeling_hcos/blob/main/HCO_models_analysis_colab.ipynb\" target=\"_parent\"><img src=\"https://colab.research.google.com/assets/colab-badge.svg\" alt=\"Open In Colab\"/></a>"
      ]
    },
    {
      "cell_type": "markdown",
      "source": [
        "# Imports and helper functions"
      ],
      "metadata": {
        "id": "GFdD2NIWNJWT"
      }
    },
    {
      "cell_type": "code",
      "execution_count": 77,
      "metadata": {
        "id": "NWuWS4Xs7G0P"
      },
      "outputs": [],
      "source": [
        "import numpy as np\n",
        "import scipy as sp\n",
        "import scipy.io\n",
        "import matplotlib.pyplot as plt \n",
        "from matplotlib import rcParams\n",
        "from matplotlib.pyplot import rc_context\n",
        "import seaborn as sns\n",
        "import copy\n",
        "\n",
        "from scipy.stats import zscore\n",
        "from sklearn.cluster import KMeans\n",
        "\n",
        "!pip install -q scanpy\n",
        "import scanpy as sc\n",
        "\n",
        "!pip install -q leidenalg"
      ]
    },
    {
      "cell_type": "code",
      "source": [
        "sc.settings.verbosity = 3  "
      ],
      "metadata": {
        "id": "3zPV1Ozu8Gnp"
      },
      "execution_count": 3,
      "outputs": []
    },
    {
      "cell_type": "code",
      "source": [
        "#@title Plotting params\n",
        "\n",
        "rcParams['figure.figsize'] = [20, 4]\n",
        "rcParams['font.size'] =15\n",
        "rcParams['axes.spines.top'] = False\n",
        "rcParams['axes.spines.right'] = False\n",
        "rcParams['figure.autolayout'] = True"
      ],
      "metadata": {
        "id": "-9h0yS7IlsEs"
      },
      "execution_count": 4,
      "outputs": []
    },
    {
      "cell_type": "code",
      "source": [
        "# concatenate spiketimes\n",
        "\n",
        "def concat(spiketimes):\n",
        "\n",
        "  st = []\n",
        "\n",
        "  for i in range(len(spiketimes)):\n",
        "    \n",
        "    st1=[]\n",
        "\n",
        "    for j in range(len(spiketimes[i])):\n",
        "\n",
        "      if spiketimes[i][j].any():\n",
        "        st1.append(np.concatenate(spiketimes[i][j]))\n",
        "      else:\n",
        "        st1.append([])\n",
        "\n",
        "    st.append(st1)\n",
        "  \n",
        "  return st"
      ],
      "metadata": {
        "id": "tLz4rD1DWt3u"
      },
      "execution_count": 5,
      "outputs": []
    },
    {
      "cell_type": "code",
      "source": [
        "# delete multiple objects from a list \n",
        "\n",
        "def delete_multiple_element(list_object, indices):\n",
        "    indices = sorted(indices, reverse=True)\n",
        "    for idx in indices:\n",
        "        if idx < len(list_object):\n",
        "          list_object.pop(idx)"
      ],
      "metadata": {
        "id": "ZfWqHcyYuW0s"
      },
      "execution_count": 6,
      "outputs": []
    },
    {
      "cell_type": "markdown",
      "source": [
        "# Load spiketimes"
      ],
      "metadata": {
        "id": "kVxLugJoNRxm"
      }
    },
    {
      "cell_type": "code",
      "source": [
        "#load spiketime data\n",
        "\n",
        "from google.colab import files\n",
        "uploaded = files.upload()"
      ],
      "metadata": {
        "colab": {
          "resources": {
            "http://localhost:8080/nbextensions/google.colab/files.js": {
              "data": "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",
              "ok": true,
              "headers": [
                [
                  "content-type",
                  "application/javascript"
                ]
              ],
              "status": 200,
              "status_text": ""
            }
          },
          "base_uri": "https://localhost:8080/",
          "height": 73
        },
        "id": "D_751lxLPqtA",
        "outputId": "95915e74-d0ae-4516-933c-5d82c1ef52b8"
      },
      "execution_count": 7,
      "outputs": [
        {
          "output_type": "display_data",
          "data": {
            "text/plain": [
              "<IPython.core.display.HTML object>"
            ],
            "text/html": [
              "\n",
              "     <input type=\"file\" id=\"files-ffc2af9b-628f-469c-b5e1-b52a48ee9c7d\" name=\"files[]\" multiple disabled\n",
              "        style=\"border:none\" />\n",
              "     <output id=\"result-ffc2af9b-628f-469c-b5e1-b52a48ee9c7d\">\n",
              "      Upload widget is only available when the cell has been executed in the\n",
              "      current browser session. Please rerun this cell to enable.\n",
              "      </output>\n",
              "      <script src=\"/nbextensions/google.colab/files.js\"></script> "
            ]
          },
          "metadata": {}
        },
        {
          "output_type": "stream",
          "name": "stdout",
          "text": [
            "Saving hco_model_data.mat to hco_model_data.mat\n"
          ]
        }
      ]
    },
    {
      "cell_type": "code",
      "source": [
        "mat  = scipy.io.loadmat('/content/hco_model_data.mat')\n",
        "allprtile = mat.get('allprtile') # z-scored feature vector (ISIs, phases)\n",
        "spiketimes = mat.get('st') # spiketimes"
      ],
      "metadata": {
        "id": "Qckl6oXD79tp"
      },
      "execution_count": 8,
      "outputs": []
    },
    {
      "cell_type": "code",
      "source": [
        "st = concat(spiketimes) # concatinated spiketimes"
      ],
      "metadata": {
        "id": "2iFHfm-sWp0S"
      },
      "execution_count": 9,
      "outputs": []
    },
    {
      "cell_type": "markdown",
      "source": [
        "# Generate synthetic spiketime data"
      ],
      "metadata": {
        "id": "6L15zYuSmElL"
      }
    },
    {
      "cell_type": "code",
      "source": [
        "# function to generate synthetic spiketime data from a Poisson distribution\n",
        "\n",
        "def generate_st(lambda1):\n",
        "  s = np.random.poisson(lambda1)\n",
        "  spikes = []\n",
        "  time = np.random.poisson(lambda1)\n",
        "\n",
        "  while (time < 900):\n",
        "    spikes.append(time)\n",
        "    time = time + np.random.poisson(lambda1)\n",
        "\n",
        "  return spikes"
      ],
      "metadata": {
        "id": "xqTz07qJF5bU"
      },
      "execution_count": null,
      "outputs": []
    },
    {
      "cell_type": "code",
      "source": [
        "# generate spiketimes for two nerurons\n",
        "st = []\n",
        "lambda1=[5,10]\n",
        "\n",
        "for j in range(2):\n",
        "  st1 = []\n",
        "  for i in range(10):\n",
        "    st1.append(generate_st(lambda1[j]))\n",
        "\n",
        "  st.append(st1)\n"
      ],
      "metadata": {
        "id": "FHVZ-s0dGkqj"
      },
      "execution_count": null,
      "outputs": []
    },
    {
      "cell_type": "markdown",
      "source": [
        "# Functions to calculate percentiles of ISIs and spike phases and other spike train features "
      ],
      "metadata": {
        "id": "usj7On67mOW1"
      }
    },
    {
      "cell_type": "code",
      "source": [
        "# ISIs and percentiles of ISIs\n",
        "\n",
        "def ISIPercentile(spiketimes):\n",
        "\n",
        "  isiprtile = []\n",
        "\n",
        "  for j in range(len(spiketimes)):\n",
        "\n",
        "    isiprtile1=[]\n",
        "\n",
        "    for i in range(len(spiketimes[j])):\n",
        "      \n",
        "      if (len(spiketimes[j][i])>1):\n",
        "        #ISI = np.diff(np.concatenate(spiketimes[j][i]))\n",
        "        ISI = np.diff(spiketimes[j][i])\n",
        "        isiprtile1.append(np.percentile(ISI,range(0,100,10)).tolist())\n",
        "      else:\n",
        "        #isiprtile1.append([])\n",
        "        isiprtile1.append([0]*10)\n",
        "\n",
        "    isiprtile.append(isiprtile1)\n",
        "\n",
        "  return isiprtile\n"
      ],
      "metadata": {
        "id": "r54SnGI4g_V3"
      },
      "execution_count": 10,
      "outputs": []
    },
    {
      "cell_type": "code",
      "source": [
        "# spike phases and phase percentiles\n",
        "\n",
        "def PhasePrtile(spiketimes):\n",
        "\n",
        "  phasesprtile1, phasesprtile2 = [], []\n",
        "\n",
        "  # phases for the first neuron\n",
        "\n",
        "  for i in range(len(spiketimes[0])):\n",
        "\n",
        "    prevspk1,nextspk1,spkphase1 = [],[],[]\n",
        "    prevspk2,nextspk2,spkphase2 = [],[],[]\n",
        "\n",
        "    #if (spiketimes[0][i].any()) & (spiketimes[1][i].any()):\n",
        "    if (len(spiketimes[0][i])!=0) & (len(spiketimes[1][i])!=0):\n",
        "\n",
        "      #st1 = np.concatenate(spiketimes[0][i])\n",
        "      #st2 = np.concatenate(spiketimes[1][i])\n",
        "      st1 = spiketimes[0][i]\n",
        "      st2 = spiketimes[1][i]\n",
        "      \n",
        "      if (max(st2)>min(st1)) & (max(st1)>min(st2)) & (len(st1)>10) & (len(st2)>10):\n",
        "\n",
        "        # phases of the 1st neuron\n",
        "        for j in range(len(st1)):\n",
        "\n",
        "          prev_other_spikes1 = st2[np.where(st2<st1[j])]\n",
        "\n",
        "          if not prev_other_spikes1.any():\n",
        "            continue\n",
        "          else:\n",
        "            prev_other_spike1 = prev_other_spikes1[-1]\n",
        "              \n",
        "          next_other_spikes1 = st2[np.where(st2>st1[j])]\n",
        "\n",
        "          if not next_other_spikes1.any():\n",
        "            continue\n",
        "          else:\n",
        "            next_other_spike1 = next_other_spikes1[0]\n",
        "\n",
        "          prevspk1.append(prev_other_spike1)\n",
        "          nextspk1.append(next_other_spike1)\n",
        "\n",
        "          spkphase1.append((st1[j] - prev_other_spike1)/(next_other_spike1 - prev_other_spike1))\n",
        "\n",
        "        # phases of the 2nd neuron\n",
        "        for j in range(len(st2)):\n",
        "\n",
        "          prev_other_spikes2 = st1[np.where(st1<st2[j])]\n",
        "\n",
        "          if not prev_other_spikes2.any():\n",
        "            continue\n",
        "          else:\n",
        "            prev_other_spike2 = prev_other_spikes2[-1]\n",
        "              \n",
        "          next_other_spikes2 = st1[np.where(st1>st2[j])]\n",
        "\n",
        "          if not next_other_spikes2.any():\n",
        "            continue\n",
        "          else:\n",
        "            next_other_spike2 = next_other_spikes2[0]\n",
        "\n",
        "          prevspk2.append(prev_other_spike2)\n",
        "          nextspk2.append(next_other_spike2)\n",
        "\n",
        "          spkphase2.append((st2[j] - prev_other_spike2)/(next_other_spike2 - prev_other_spike2))\n",
        "\n",
        "      else:\n",
        "        spkphase1, spkphase2 = [], []\n",
        "\n",
        "      if spkphase1:\n",
        "        phasesprtile1.append(np.percentile(spkphase1,range(0,100,10)))\n",
        "      else:\n",
        "        phasesprtile1.append([0]*10)\n",
        "\n",
        "      if spkphase2:\n",
        "        phasesprtile2.append(np.percentile(spkphase2,range(0,100,10)))\n",
        "      else:\n",
        "        phasesprtile2.append([0]*10)\n",
        "\n",
        "    else:\n",
        "      phasesprtile1.append([0]*10)\n",
        "      phasesprtile2.append([0]*10)\n",
        "\n",
        "\n",
        "\n",
        "  return phasesprtile1, phasesprtile2"
      ],
      "metadata": {
        "id": "l3aDj520Qc_Q"
      },
      "execution_count": 11,
      "outputs": []
    },
    {
      "cell_type": "code",
      "source": [
        "# calculate firing rates\n",
        "\n",
        "def FiringRate(spiketimes):\n",
        "\n",
        "  FR = np.empty(shape=(len(spiketimes),len(spiketimes[0])))\n",
        "\n",
        "  for j in range(len(spiketimes)):\n",
        "    for i in range(len(spiketimes[j])):  \n",
        "      if (len(spiketimes[j][i])>2):\n",
        "        ISI = np.diff(spiketimes[j][i])\n",
        "        FR[j,i] = np.median(1/ISI)\n",
        "\n",
        "  return FR"
      ],
      "metadata": {
        "id": "DDHx_ILEnaAd"
      },
      "execution_count": 64,
      "outputs": []
    },
    {
      "cell_type": "code",
      "source": [
        "# calculate ciefficient of variation of spike trains\n",
        "\n",
        "from scipy.stats import variation \n",
        "\n",
        "def ISICV(spiketimes):\n",
        "\n",
        "  ISICV = np.empty(shape=(len(spiketimes),len(spiketimes[0])))\n",
        "\n",
        "  for j in range(len(spiketimes)):\n",
        "    for i in range(len(spiketimes[j])):  \n",
        "      if (len(spiketimes[j][i])>2):\n",
        "        ISI = np.diff(spiketimes[j][i])\n",
        "        ISICV[j,i] = variation(ISI)\n",
        "\n",
        "  return ISICV\n"
      ],
      "metadata": {
        "id": "IQQsGf2vYVyP"
      },
      "execution_count": 65,
      "outputs": []
    },
    {
      "cell_type": "code",
      "source": [
        "# calculate a metrics for the first approximation of how burst-like spike train is\n",
        "\n",
        "def BurstLike(spiketimes):\n",
        "\n",
        "  burstlike = np.empty(shape=(len(spiketimes),len(spiketimes[0])))\n",
        "\n",
        "  for j in range(len(spiketimes)):\n",
        "\n",
        "    for i in range(len(spiketimes[j])):\n",
        "      \n",
        "      if (len(spiketimes[j][i])>2):\n",
        "        ISI = np.diff(spiketimes[j][i])\n",
        "        sortedISI = sorted(ISI)\n",
        "        maxdiffs = max(np.diff(sortedISI))\n",
        "        argmaxdiffs = np.argmax(np.diff(sortedISI))\n",
        "        burstlike[j,i] = maxdiffs/sortedISI[argmaxdiffs]\n",
        "      else:\n",
        "        burstlike[j,i] = 0\n",
        "\n",
        "  return burstlike"
      ],
      "metadata": {
        "id": "vVgo1Vq8eJ_l"
      },
      "execution_count": 14,
      "outputs": []
    },
    {
      "cell_type": "markdown",
      "source": [
        "# Calculate percentiles of ISI and spike phases, firing rates and measure of burstiness"
      ],
      "metadata": {
        "id": "nXBPkllINAm4"
      }
    },
    {
      "cell_type": "code",
      "source": [
        "# remove asymmetric networks with one tonically spiking neuron\n",
        "\n",
        "ISI_CV = ISICV(st) # calculate coefficient of variation of ISIs\n",
        "\n",
        "st_ = copy.deepcopy(st)\n",
        "\n",
        "tonic_i = np.argwhere(ISI_CV[0,:]<0.1)\n",
        "\n",
        "def delete_multiple_element(list_object, indices):\n",
        "    indices = sorted(indices, reverse=True)\n",
        "    for idx in indices:\n",
        "        if idx < len(list_object):\n",
        "          list_object.pop(idx)\n",
        "\n",
        "delete_multiple_element(st_[0], tonic_i.T[0])\n",
        "delete_multiple_element(st_[1], tonic_i.T[0])\n"
      ],
      "metadata": {
        "id": "y0qXvsrYU5IJ"
      },
      "execution_count": 15,
      "outputs": []
    },
    {
      "cell_type": "code",
      "source": [
        "isiprtile = ISIPercentile(st) # percentiles of ISIs \n",
        "phaseprtile = PhasePrtile(st) # percentiles of spike phases\n",
        "FR = FiringRate(st) # median firing rates\n",
        "burstlike = BurstLike(st) # how burstlike the spike train is"
      ],
      "metadata": {
        "id": "qbmkynpbgR8p"
      },
      "execution_count": 11,
      "outputs": []
    },
    {
      "cell_type": "code",
      "source": [
        "# caluclate features of non tonic neurons\n",
        "\n",
        "isiprtile = ISIPercentile(st_) # percentiles of ISIs \n",
        "phaseprtile = PhasePrtile(st_) # percentiles of spike phases\n",
        "FR = FiringRate(st_) # median firing rates\n",
        "burstlike = BurstLike(st_) # how burstlike the spike train is"
      ],
      "metadata": {
        "id": "ByK4ysh7YvPG"
      },
      "execution_count": 66,
      "outputs": []
    },
    {
      "cell_type": "code",
      "source": [
        "# plot example ISIs, spike phases and ISI and phases tenth percentiles\n",
        "i=7\n",
        "\n",
        "plt.figure(figsize=(10,5))\n",
        "plt.subplot(2,5,1)\n",
        "if spiketimes[0][i].any():\n",
        "  plt.plot(np.diff(np.concatenate(spiketimes[0][i])),'.')\n",
        "if spiketimes[1][i].any():\n",
        "  plt.plot(np.diff(np.concatenate(spiketimes[1][i])),'.')\n",
        "plt.yscale('log')\n",
        "#plt.plot((np.diff(st[0][i])))\n",
        "#plt.plot(np.diff(st[1][i]))\n",
        "\n",
        "#isiprtile\n",
        "plt.subplot(2,5,2)\n",
        "if isiprtile[0][i]:\n",
        "  plt.bar(range(0,100,10), isiprtile[0][i],width=8)\n",
        "\n",
        "plt.subplot(2,5,3)\n",
        "if isiprtile[1][i]:\n",
        "  plt.bar(range(0,100,10), isiprtile[1][i],width=8)\n",
        "\n",
        "plt.subplot(2,5,4)\n",
        "if phaseprtile[0][i] != []:\n",
        "  plt.bar(range(0,100,10), phaseprtile[0][i],width=8)\n",
        "  plt.ylim(0, 1)\n",
        "\n",
        "plt.subplot(2,5,5)\n",
        "if phaseprtile[1][i] != []:\n",
        "  plt.bar(range(0,100,10), phaseprtile[1][i],width=8)\n",
        "  plt.ylim(0, 1)\n",
        "\n",
        "plt.subplot(2,5,7)\n",
        "plt.bar(range(0,100,10), allprtile[i][:10],width=8)\n",
        "plt.subplot(2,5,8)\n",
        "plt.bar(range(0,100,10), allprtile[i][10:20],width=8)\n",
        "plt.subplot(2,5,9)\n",
        "plt.bar(range(0,100,10), allprtile[i][20:30],width=8)\n",
        "plt.ylim(0, 1)\n",
        "plt.subplot(2,5,10)\n",
        "plt.bar(range(0,100,10), allprtile[i][30:40],width=8)\n",
        "plt.ylim(0, 1)"
      ],
      "metadata": {
        "colab": {
          "base_uri": "https://localhost:8080/",
          "height": 431
        },
        "id": "6DF6UArB_7zc",
        "outputId": "ad6ed3d1-0c2a-4ad8-b4fb-c60158222bd8"
      },
      "execution_count": 18,
      "outputs": [
        {
          "output_type": "stream",
          "name": "stderr",
          "text": [
            "/usr/local/lib/python3.7/dist-packages/ipykernel_launcher.py:24: DeprecationWarning: elementwise comparison failed; this will raise an error in the future.\n",
            "/usr/local/lib/python3.7/dist-packages/ipykernel_launcher.py:29: DeprecationWarning: elementwise comparison failed; this will raise an error in the future.\n"
          ]
        },
        {
          "output_type": "execute_result",
          "data": {
            "text/plain": [
              "(0.0, 1.0)"
            ]
          },
          "metadata": {},
          "execution_count": 18
        },
        {
          "output_type": "display_data",
          "data": {
            "text/plain": [
              "<Figure size 720x360 with 9 Axes>"
            ],
            "image/png": "[encoded data removed]"
          },
          "metadata": {
            "needs_background": "light"
          }
        }
      ]
    },
    {
      "cell_type": "code",
      "source": [
        "# make a feature vector and z-score it\n",
        "\n",
        "features = np.hstack((isiprtile[0], isiprtile[1], phaseprtile[0], phaseprtile[1]))\n",
        "features1 = np.append(features, FR.T, axis=1)\n",
        "features2 = np.append(features1, burstlike.T, axis=1)\n",
        "scaled_features = zscore(features2)"
      ],
      "metadata": {
        "colab": {
          "base_uri": "https://localhost:8080/"
        },
        "id": "Y3sFL6RKq2iW",
        "outputId": "e1ba3f79-2c1b-4f95-89f3-a88e4194cd70"
      },
      "execution_count": 67,
      "outputs": [
        {
          "output_type": "stream",
          "name": "stderr",
          "text": [
            "/usr/local/lib/python3.7/dist-packages/numpy/core/_methods.py:233: RuntimeWarning: overflow encountered in multiply\n",
            "  x = um.multiply(x, x, out=x)\n"
          ]
        }
      ]
    },
    {
      "cell_type": "markdown",
      "source": [
        "# FI-t-SNE approximate algorithm"
      ],
      "metadata": {
        "id": "gbn6PqZClmkr"
      }
    },
    {
      "cell_type": "code",
      "source": [
        "#@title Clone FFT-accelerated t-SNE repository\n",
        "import os, requests\n",
        "import sys\n",
        "\n",
        "!git clone https://github.com/KlugerLab/FIt-SNE.git \n",
        "!apt-get install libfftw3-dev\n",
        "!g++ -std=c++11 -O3  /content/FIt-SNE/src/sptree.cpp /content/FIt-SNE/src/tsne.cpp /content/FIt-SNE/src/nbodyfft.cpp  -o /content/FIt-SNE/bin/fast_tsne -pthread -lfftw3 -lm -Wno-address-of-packed-member\n",
        "\n",
        "sys.path.append(os.path.abspath('/content/FIt-SNE/'))\n",
        "from fast_tsne import fast_tsne "
      ],
      "metadata": {
        "id": "NiKg6VaU-6no"
      },
      "execution_count": null,
      "outputs": []
    },
    {
      "cell_type": "code",
      "source": [
        "# Do PCA and keep 50 dimensions\n",
        "\n",
        "X = scaled_features.copy()\n",
        "X = X - X.mean(axis=0)\n",
        "U, s, V = np.linalg.svd(X, full_matrices=False)\n",
        "X50 = np.dot(U, np.diag(s))[:,:50]"
      ],
      "metadata": {
        "id": "wkik88upI7AC"
      },
      "execution_count": 69,
      "outputs": []
    },
    {
      "cell_type": "code",
      "source": [
        "# calculate and plot tsne\n",
        "\n",
        "#Z = fast_tsne(allprtile_scaled, perplexity=50, stop_early_exag_iter=250)\n",
        "Z = fast_tsne(X50, perplexity=50, stop_early_exag_iter=250)\n",
        "\n",
        "plt.figure(figsize=(7,7))\n",
        "sns.scatterplot(Z[:,0], Z[:,1])"
      ],
      "metadata": {
        "id": "nGLGja34QSIZ"
      },
      "execution_count": null,
      "outputs": []
    },
    {
      "cell_type": "code",
      "source": [
        "# K-means clustering\n",
        "\n",
        "#kmeans = KMeans(n_clusters=5, random_state=0).fit(Z)\n",
        "#kmeans = KMeans(n_clusters=5, random_state=0).fit(scaled_features)\n",
        "kmeans = KMeans(n_clusters=5, random_state=0).fit(X50)\n",
        "\n",
        "plt.figure(figsize=(7,7))\n",
        "sns.scatterplot(Z[:,0], Z[:,1],hue = kmeans.labels_)\n"
      ],
      "metadata": {
        "id": "uYjH3dOMcOdB"
      },
      "execution_count": null,
      "outputs": []
    },
    {
      "cell_type": "markdown",
      "source": [
        "# Standard t-SNE/ UMAP, Leiden "
      ],
      "metadata": {
        "id": "n69_FSrgmGyi"
      }
    },
    {
      "cell_type": "code",
      "source": [
        "# make annotated data matrix\n",
        "\n",
        "adata = sc.AnnData(scaled_features, dtype=np.float32)\n",
        "#adata = sc.AnnData(X50)\n",
        "print(adata)"
      ],
      "metadata": {
        "colab": {
          "base_uri": "https://localhost:8080/"
        },
        "id": "JU875wwLa1up",
        "outputId": "5f3433e4-3581-434e-a937-030eaa84d127"
      },
      "execution_count": 73,
      "outputs": [
        {
          "output_type": "stream",
          "name": "stdout",
          "text": [
            "AnnData object with n_obs × n_vars = 23284 × 44\n"
          ]
        }
      ]
    },
    {
      "cell_type": "code",
      "source": [
        "# t-SNE\n",
        "\n",
        "sc.tl.tsne(adata,perplexity=100,n_pcs=10)\n",
        "#sc.tl.tsne(adata,perplexity=100, random_state=1)\n",
        "\n",
        "\n",
        "with rc_context({'figure.figsize': (10, 10)}):\n",
        "  sc.pl.tsne(adata, color='clusters', add_outline=True, legend_loc='on data',\n",
        "               legend_fontsize=12, legend_fontoutline=2,frameon=False,\n",
        "               title='Activity patterns', palette='Set1')\n",
        "  "
      ],
      "metadata": {
        "id": "YdR7owI5ebNO"
      },
      "execution_count": null,
      "outputs": []
    },
    {
      "cell_type": "code",
      "source": [
        "#Computing the neighborhood graph and cluster spiking patterns using the Leiden algorithm\n",
        "\n",
        "sc.pp.neighbors(adata, n_neighbors=10, n_pcs=40)\n",
        "#sc.pp.neighbors(method=\"tsne\", perplexity=30)\n",
        "sc.tl.leiden(adata, key_added='clusters', resolution=0.1)"
      ],
      "metadata": {
        "id": "L6mNPnUnq4W0",
        "colab": {
          "base_uri": "https://localhost:8080/"
        },
        "outputId": "b725357d-3775-4286-e053-d7dfec78385d"
      },
      "execution_count": 75,
      "outputs": [
        {
          "output_type": "stream",
          "name": "stdout",
          "text": [
            "computing neighbors\n",
            "    using data matrix X directly\n"
          ]
        },
        {
          "output_type": "stream",
          "name": "stderr",
          "text": [
            "/usr/local/lib/python3.7/dist-packages/numba/np/ufunc/parallel.py:363: NumbaWarning: The TBB threading layer requires TBB version 2019.5 or later i.e., TBB_INTERFACE_VERSION >= 11005. Found TBB_INTERFACE_VERSION = 9107. The TBB threading layer is disabled.\n",
            "  warnings.warn(problem)\n"
          ]
        },
        {
          "output_type": "stream",
          "name": "stdout",
          "text": [
            "    finished: added to `.uns['neighbors']`\n",
            "    `.obsp['distances']`, distances for each pair of neighbors\n",
            "    `.obsp['connectivities']`, weighted adjacency matrix (0:00:24)\n",
            "running Leiden clustering\n",
            "    finished: found 10 clusters and added\n",
            "    'clusters', the cluster labels (adata.obs, categorical) (0:00:01)\n"
          ]
        }
      ]
    },
    {
      "cell_type": "code",
      "source": [
        "# UMAP   \n",
        "\n",
        "#sc.tl.umap(adata,min_dist=0.1,gamma=0.1,init_pos=Z)\n",
        "#sc.tl.umap(adata,min_dist=0.5,gamma=0.1,init_pos='paga')\n",
        "sc.tl.umap(adata,min_dist=0.5,gamma=0.1)\n",
        "\n",
        "#with rc_context({'figure.figsize': (10, 10)}):\n",
        "#  sc.pl.umap(adata, color='clusters', add_outline=True, legend_loc='on data',\n",
        "#               legend_fontsize=12, legend_fontoutline=2,frameon=False,\n",
        "#               title='Activity patterns', palette='Set1')\n",
        "  \n",
        "with rc_context({'figure.figsize': (10, 10)}):\n",
        "  sc.pl.umap(adata, color='clusters', add_outline=False, legend_loc='on data',\n",
        "               legend_fontsize=12, legend_fontoutline=2,frameon=False,\n",
        "               title='Activity patterns', palette='Set1')"
      ],
      "metadata": {
        "id": "xfaYJz00KFBe"
      },
      "execution_count": null,
      "outputs": []
    },
    {
      "cell_type": "code",
      "source": [
        "sc.tl.paga(adata,groups='clusters')\n",
        "sc.pl.paga(adata, plot=False) "
      ],
      "metadata": {
        "id": "7sIbNjboWpzv"
      },
      "execution_count": null,
      "outputs": []
    },
    {
      "cell_type": "code",
      "source": [
        "# plot spikie time rsters for different clusters\n",
        "\n",
        "color = ['red','blue','green','purple']\n",
        "idx = [1,9,11,14,5,4,2,0]\n",
        "\n",
        "for i in range(10):\n",
        "\n",
        "  plt.subplot(5,2,i)\n",
        "  plt.eventplot([st_[0][idx[i]], st_[1][idx[i]]],colors=color[i])\n",
        "  plt.ylim(-0.5,1.5)\n",
        "  plt.axis('off')\n",
        "  plt.title(str(adata.obs.clusters[idx[i]]))\n"
      ],
      "metadata": {
        "id": "_0fIYGFxDtmB"
      },
      "execution_count": null,
      "outputs": []
    },
    {
      "cell_type": "code",
      "source": [
        "adata.obs.clusters[0:20]"
      ],
      "metadata": {
        "id": "jzFU2fgmrhXb"
      },
      "execution_count": null,
      "outputs": []
    },
    {
      "cell_type": "code",
      "source": [
        "lt.figure(figsize=(10,10))\n",
        "sc.pl.tsne(adata, color='leiden',add_outline=True)"
      ],
      "metadata": {
        "id": "Oo3ETUxoe1Pn"
      },
      "execution_count": null,
      "outputs": []
    },
    {
      "cell_type": "code",
      "source": [
        ""
      ],
      "metadata": {
        "id": "EwO5VBL9CfR4"
      },
      "execution_count": null,
      "outputs": []
    }
  ]
}